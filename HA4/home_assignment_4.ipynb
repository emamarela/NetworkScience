{
 "cells": [
  {
   "cell_type": "markdown",
   "metadata": {},
   "source": [
    "Network Science FSS 2022\n",
    "\n",
    "# Home Assignment 4\n",
    "\n"
   ]
  },
  {
   "cell_type": "markdown",
   "metadata": {},
   "source": [
    "Submit your solution via Ilias until 23.59pm on Monday, May 30th. Late submissions are accepted for 12 hours following the deadline, with 1/4 of the total possible points deducted from the score.\n",
    "\n",
    "Submit your solutions in teams of 2 students. Unless explicitly agreed otherwise in advance, **submissions from teams with more or less members will NOT be graded**.\n",
    "List all members of the team with their student ID and full name in the cell below, and submit only one notebook per team. Only submit a notebook, do not submit the dataset(s) you used or image files that you have created - these have to be created from your notebook. Also, do NOT compress/zip your submission!\n",
    "\n",
    "Cite ALL your sources for coding this home assignment. In case of plagiarism (copying solutions from other teams or from the internet) ALL team members will be expelled from the course without warning."
   ]
  },
  {
   "cell_type": "markdown",
   "metadata": {},
   "source": [
    "#### General guidelines:\n",
    "* Make sure that your code is executable, any task for which the code does directly not run on our machine will be graded with 0 points.\n",
    "* Use only packages that are automatically installed along with Anaconda, plus some additional packages that have been introduced in the context of this class.\n",
    "* Ensure that the notebook does not rely on the current notebook or system state!\n",
    "  * Use `Kernel --> Restart & Run All` to see if you are using any definitions, variables etc. that \n",
    "    are not in scope anymore.\n",
    "  * Do not rename any of the datasets you use, and load it from the same directory that your ipynb-notebook is located in, i.e., your working directory. In particular, when loading a file, make sure that it has the form `nx.read_edgelist(\"example.edgelist\")` instead of `nx.read_edgelist(\"C:/User/Path/to/your/Homework/example.edgelist\")` so that the code directly works from our machines. \n",
    "* Make sure you clean up your code before submission, e.g., properly align your code, and delete every line of code that you do not need anymore, even if you may have experimented with it. Minimize usage of global variables. Do not reuse variable names multiple times!\n",
    "* Ensure your code/notebook terminates in reasonable time.\n",
    "* Feel free to use comments in the code. While we do not require them to get full marks, they may help us in case your code has minor errors.\n",
    "* For questions that require a textual answer, please do not write the answer as a comment in a code cell, but in a Markdown cell below the code. Always remember to provide sufficient justification for all answers.\n",
    "* You may create as many additional cells as you want, just make sure that the solutions to the individual tasks can be found near the corresponding assignment.\n",
    "* If you have any general question regarding the understanding of some task, do not hesitate to post in the student forum in Ilias, so we can clear up such questions for all students in the course."
   ]
  },
  {
   "cell_type": "markdown",
   "metadata": {},
   "source": [
    "##### List team members, including all student IDs, in the cell below:"
   ]
  },
  {
   "cell_type": "code",
   "execution_count": null,
   "metadata": {},
   "outputs": [],
   "source": [
    "# credentials of all team members (you may add or remove items from the list)\n",
    "team_members = [\n",
    "    {\n",
    "        'first_name': 'Alice',\n",
    "        'last_name': 'Foo',\n",
    "        'student_id': 12345\n",
    "    },\n",
    "    {\n",
    "        'first_name': 'Bob',\n",
    "        'last_name': 'Bar',\n",
    "        'student_id': 54321\n",
    "    }\n",
    "]"
   ]
  },
  {
   "cell_type": "code",
   "execution_count": 2,
   "metadata": {},
   "outputs": [],
   "source": [
    "# general imports may go here!\n",
    "import networkx as nx\n",
    "import numpy as np\n",
    "import random\n",
    "import matplotlib.pyplot as plt\n",
    "import math\n",
    "from typing import List, Optional, Tuple, Dict"
   ]
  },
  {
   "cell_type": "markdown",
   "metadata": {},
   "source": [
    "### Task 1:  Simulating the SIS-Model on Random Graphs (25 pts)\n",
    "\n",
    "\n",
    "#### a) Implementing the SIS Model (10 pts)\n",
    "\n",
    "Implement a function that models one timestep of the spreading according to the SIS model. Use the signature specified in the cell below!"
   ]
  },
  {
   "cell_type": "code",
   "execution_count": 3,
   "metadata": {},
   "outputs": [],
   "source": [
    "def spread_SIS(G: nx.Graph, beta: float, mu: float, att: str=\"state\") -> nx.Graph:\n",
    "    \"\"\"\n",
    "    :param G: input networkx graph\n",
    "    :param beta: probability that an infected individual infects one of his neighbors\n",
    "    :param mu: probability that an infected individual has recovered at the next timestep\n",
    "    :param attr: string specifying the name of the node attribute which indicates whether \n",
    "    :            or not the corresponding individual is infected\n",
    "    :             -> should take value 0 if the corresponding individual susceptible, \n",
    "    :                and 1 if the individual is infected\n",
    "    :return: the resulting network after the disease has spread for one round\n",
    "    \"\"\"\n",
    "    # your code here\n",
    "    pass"
   ]
  },
  {
   "cell_type": "markdown",
   "metadata": {},
   "source": [
    "#### b) Simulating the Spread (15 pts)\n",
    "\n",
    "Create two random networks, i.e., one Barabasi-Albert network, and one Erdos-Renyi network, both with 100 nodes and average degree $\\langle k \\rangle = 4$. Initialize both networks by (i) reducing the network to its biggest component, and (ii) setting one randomly chosen node to infected. For that purpose, create a node attribute called ```'state'```, which takes the value `0` if the corresponding individual is susceptible, and `1` otherwise. Save the resulting initial graphs into variables ``ER0`` for the initial Erdos-Renyi graph, and ``BA0`` for the initial Barabasi-Albert network.   \n",
    "For both networks, apply your implementation from a) with fixed value $\\mu = 0.8$, and varied $\\beta\\in \\{0.1,0.2,\\dots,0.9,1 \\}$ to simulate 50 timesteps of the spreading according to the SIS model. More precisely, for each value of $\\beta$, run one simulation per graph model of these 50 timesteps, starting at the initial graphs ``ER0`` and ``BA0``.  \n",
    "Plot the relative share of infected nodes in the graph over all timesteps, using one plot per graph model which includes all curves for the varied values of $\\beta$.  \n",
    "Provide some explanation and interpretation regarding the effect of varying $\\beta$, as well as on the differences between both graph models in cell __A1b)__!"
   ]
  },
  {
   "cell_type": "code",
   "execution_count": null,
   "metadata": {},
   "outputs": [],
   "source": []
  },
  {
   "cell_type": "code",
   "execution_count": null,
   "metadata": {},
   "outputs": [],
   "source": []
  },
  {
   "cell_type": "markdown",
   "metadata": {},
   "source": [
    "**A1b):** _Please provide your answers here!_"
   ]
  },
  {
   "cell_type": "markdown",
   "metadata": {},
   "source": [
    "### Task 2: The Friendship Paradox (25 pts)\n",
    "\n",
    "In this task, we will take a closer look at the friendship paradox, utilizing two different empirical networks to base our analysis on.\n",
    "\n",
    "__References:__  \n",
    "[1] Vineet Kumar, David Krackhardt, Scott Feld. Network Interventions Based on Inversity: Leveraging the Friendship Paradox in Unknown Network Structures. [ https://vineetkumars.github.io/Papers/NetworkInversity.pdf ]   \n",
    "[2] Jérôme Kunegis. KONECT - The Koblenz Network Collection. In Proc. Int. Web Observatory Workshop, pages 1343-1350, 2013   \n",
    "[3] Internet topology network dataset -- KONECT, April 2017.[ http://konect.cc/networks/topology/ ]  \n",
    "[4] Pretty Good Privacy network dataset -- KONECT, April 2017. [ http://konect.cc/networks/arenas-pgp/ ]"
   ]
  },
  {
   "cell_type": "code",
   "execution_count": null,
   "metadata": {},
   "outputs": [],
   "source": [
    "# load internet topology network\n",
    "I = nx.read_edgelist(\"internet.edgelist\", data=[('weight', int), ('time',int)], comments='%', nodetype=int)\n",
    "print(nx.info(I))"
   ]
  },
  {
   "cell_type": "code",
   "execution_count": null,
   "metadata": {},
   "outputs": [],
   "source": [
    "# load pretty good privacy (PGP) network\n",
    "P = nx.read_edgelist(\"pgp.edgelist\", comments='%', nodetype=int)\n",
    "print(nx.info(P))"
   ]
  },
  {
   "cell_type": "markdown",
   "metadata": {},
   "source": [
    "#### a) Local and Global Mean of Friends of Friends (8 pts) \n",
    "Often we want to identify highly connected nodes without having access to the network structure, i.e. not being able to easily locate hubs. In these cases we can exploit the friendship paradox, which states that on average, individuals have fewer friends than their friends do. In the lecture you learned about two strategies to compute the mean amount of friends of friends in a network.    \n",
    "Write two functions that take a `networkx` graph ```G``` as input, with one of them returning the local mean amount of friends of friends, and the other one returning the global mean friends of friends (cf. reference [1]). Use the signatures specified in the cells below!"
   ]
  },
  {
   "cell_type": "code",
   "execution_count": null,
   "metadata": {},
   "outputs": [],
   "source": [
    "def local_mean_degree(G: nx.Graph) -> float:\n",
    "    \"\"\"\n",
    "    :param G: networkx graph\n",
    "    :\n",
    "    :return: local mean friends of friends value\n",
    "    \"\"\"\n",
    "    # your code here\n",
    "    pass"
   ]
  },
  {
   "cell_type": "code",
   "execution_count": null,
   "metadata": {},
   "outputs": [],
   "source": [
    "def global_mean_degree(G: nx.Graph) -> float:\n",
    "    \"\"\"\n",
    "    :param G: networkx graph\n",
    "    :\n",
    "    :return: global mean friends of friends value\n",
    "    \"\"\"\n",
    "    # your code here\n",
    "    pass"
   ]
  },
  {
   "cell_type": "markdown",
   "metadata": {},
   "source": [
    "#### b) Comparing Local and Global Mean (2 pts)\n",
    "Apply your implementations on the PGP and internet topology graphs. Compare the resulting values with each other as well as with the average degree of each graph. What do you observe?"
   ]
  },
  {
   "cell_type": "code",
   "execution_count": null,
   "metadata": {},
   "outputs": [],
   "source": []
  },
  {
   "cell_type": "markdown",
   "metadata": {},
   "source": [
    "**A2b):** _Please provide your answers here!_"
   ]
  },
  {
   "cell_type": "markdown",
   "metadata": {},
   "source": [
    "#### c) Local and Global Node Sampling (4 pts)\n",
    "The distinction between local and global mean suggests different strategies to target central nodes. \n",
    "Write two functions that implement the local and global node sampling strategies discussed in the lecture, with ```sample_local``` returning a random neighbor of a random initial node according to the local strategy, and ```sample_global``` returning a list of nodes that was sampled from the neighborhood of a random initial node, each with probability $p$.   \n",
    "Make sure that you don't select isolated nodes as initial nodes. Note, that the number of nodes chosen under global sampling is variable, however, the global strategy must not return an empty list. Thus, if no neighbouring node has been sampled, a new random initial node should be selected. This procedure is repeated until at least one node has been sampled.\n",
    "Use the signatures specified in the cell below!"
   ]
  },
  {
   "cell_type": "code",
   "execution_count": null,
   "metadata": {},
   "outputs": [],
   "source": [
    "def sample_local(G: nx.Graph) -> int:\n",
    "    \"\"\"\n",
    "    :param G: networkx graph\n",
    "    :\n",
    "    :return: node sampled according to local strategy\n",
    "    \"\"\"\n",
    "    # your code here\n",
    "    pass"
   ]
  },
  {
   "cell_type": "code",
   "execution_count": null,
   "metadata": {},
   "outputs": [],
   "source": [
    "def sample_global(G: nx.Graph, p: float=0.5) -> List\n",
    "    \"\"\"\n",
    "    :param G: networkx graph\n",
    "    :param p: probability that neighbor of initial node is sampled\n",
    "    :\n",
    "    :return: list of nodes sampled according to global strategy\n",
    "    \"\"\"\n",
    "    # your code here\n",
    "    pass"
   ]
  },
  {
   "cell_type": "markdown",
   "metadata": {},
   "source": [
    "#### d) Comparing Local and Global Sampling (3 pts) \n",
    "Apply your implementations from c) on the PGP and internet topology graphs to sample 1000 nodes with each strategy. Compute the average degree of each sampled list of nodes. What do you observe?"
   ]
  },
  {
   "cell_type": "code",
   "execution_count": null,
   "metadata": {},
   "outputs": [],
   "source": []
  },
  {
   "cell_type": "code",
   "execution_count": null,
   "metadata": {},
   "outputs": [],
   "source": []
  },
  {
   "cell_type": "markdown",
   "metadata": {},
   "source": [
    "**A2d):** _Please provide your answers here!_"
   ]
  },
  {
   "cell_type": "markdown",
   "metadata": {},
   "source": [
    "#### e) Attacking the Networks (8 pts)\n",
    "Finally, we want to use our sampling strategies to attack the given graphs.\n",
    "Thus, we repeatedly sample node(s) according to each strategy and delete the sampled nodes, until 1000 nodes have been removed.\n",
    "As a baseline, we further perform a random node attack, where we simply remove a randomly sampled node from the graph.\n",
    "For both graphs, plot the number of removed nodes according to each strategy against the share of the giant component. What do you observe?"
   ]
  },
  {
   "cell_type": "code",
   "execution_count": null,
   "metadata": {},
   "outputs": [],
   "source": []
  },
  {
   "cell_type": "code",
   "execution_count": null,
   "metadata": {},
   "outputs": [],
   "source": []
  },
  {
   "cell_type": "code",
   "execution_count": null,
   "metadata": {},
   "outputs": [],
   "source": []
  },
  {
   "cell_type": "markdown",
   "metadata": {},
   "source": [
    "**A2e):** _Please provide your answers here!_"
   ]
  }
 ],
 "metadata": {
  "kernelspec": {
   "display_name": "Python 3 (ipykernel)",
   "language": "python",
   "name": "python3"
  },
  "language_info": {
   "codemirror_mode": {
    "name": "ipython",
    "version": 3
   },
   "file_extension": ".py",
   "mimetype": "text/x-python",
   "name": "python",
   "nbconvert_exporter": "python",
   "pygments_lexer": "ipython3",
   "version": "3.9.7"
  }
 },
 "nbformat": 4,
 "nbformat_minor": 2
}
